{
 "cells": [
  {
   "cell_type": "code",
   "execution_count": 6,
   "id": "6797a7b7",
   "metadata": {},
   "outputs": [],
   "source": [
    "from transformers import GPT2LMHeadModel, GPT2Tokenizer\n",
    "\n",
    "# -Loading the fine-tuned model and tokenizer-\n",
    "model = GPT2LMHeadModel.from_pretrained(\"./custom_gpt2_text_generation\")\n",
    "tokenizer = GPT2Tokenizer.from_pretrained(\"./custom_gpt2_text_generation\")"
   ]
  },
  {
   "cell_type": "code",
   "execution_count": 7,
   "id": "6e561e33",
   "metadata": {},
   "outputs": [
    {
     "name": "stderr",
     "output_type": "stream",
     "text": [
      "The attention mask and the pad token id were not set. As a consequence, you may observe unexpected behavior. Please pass your input's `attention_mask` to obtain reliable results.\n",
      "Setting `pad_token_id` to `eos_token_id`:50256 for open-end generation.\n"
     ]
    },
    {
     "name": "stdout",
     "output_type": "stream",
     "text": [
      "To construct a DBN, what we need is a few keystrokes. First, we'll need to get a basic understanding of how a computer vision problem domain-in-residence works. Second, a neural network approach will help us get an idea of what a problem-solving approach looks like. Third, let's get started with a simple representation representation approach. Fourth, consider a representation problem problem representation. Fifth, neural networks approach a deep learning approach sixth, keystroke problem representations\n"
     ]
    }
   ],
   "source": [
    "# -Provide a prompt or seed text-\n",
    "prompt = \"To construct a DBN, what we need\"\n",
    "\n",
    "# -Tokenize the prompt-\n",
    "input_ids = tokenizer.encode(prompt, return_tensors=\"pt\")\n",
    "\n",
    "# -Generate text-\n",
    "output = model.generate(input_ids, max_length=100, num_return_sequences=1, no_repeat_ngram_size=2)\n",
    "\n",
    "# -Decode and print the generated text-\n",
    "generated_text = tokenizer.decode(output[0], skip_special_tokens=True)\n",
    "print(generated_text)"
   ]
  },
  {
   "cell_type": "code",
   "execution_count": null,
   "id": "c342638b",
   "metadata": {},
   "outputs": [],
   "source": []
  }
 ],
 "metadata": {
  "kernelspec": {
   "display_name": "Python 3 (ipykernel)",
   "language": "python",
   "name": "python3"
  },
  "language_info": {
   "codemirror_mode": {
    "name": "ipython",
    "version": 3
   },
   "file_extension": ".py",
   "mimetype": "text/x-python",
   "name": "python",
   "nbconvert_exporter": "python",
   "pygments_lexer": "ipython3",
   "version": "3.11.4"
  }
 },
 "nbformat": 4,
 "nbformat_minor": 5
}
